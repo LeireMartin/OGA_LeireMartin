{
 "cells": [
  {
   "cell_type": "markdown",
   "metadata": {},
   "source": [
    "# Ejercicio 1: Administración de Empleados\n",
    "\n",
    "Crea una clase Empleado con nombre, salario y cargo. Luego, encapsula el salario con métodos `get_salario()` y `set_salario()` para asegurarte de que solo valores positivos sean aceptados.\n",
    "\n",
    "Objetivos: \n",
    "- Aplicar encapsulación.\n",
    "- Proteger datos con métodos `getters` y `setters`."
   ]
  },
  {
   "cell_type": "code",
   "execution_count": null,
   "metadata": {},
   "outputs": [
    {
     "name": "stdout",
     "output_type": "stream",
     "text": [
      "2000\n"
     ]
    }
   ],
   "source": [
    "class Empleado():\n",
    "    def __init__(self,nombre,salario,cargo):\n",
    "        self.nombre=nombre\n",
    "        self._salario=0\n",
    "        self.cargo=cargo\n",
    "    def salarioGet(self):\n",
    "        return self._salario\n",
    "\n",
    "    def salarioSet(self, a):\n",
    "        if(a<0):\n",
    "            raise ValueError(\"Introduzca un valor mator a 0\")\n",
    "        self._salario=a\n",
    "    \n",
    "antonio= Empleado(\"Luis\",0,\"Portero\")\n",
    "antonio.salarioSet(2000)\n",
    "print(antonio.salarioGet())"
   ]
  },
  {
   "cell_type": "markdown",
   "metadata": {},
   "source": [
    "# Ejercicio 2: Gestión de Cuenta Bancaria\n",
    "Crea una clase `CuentaBancaria` con los atributos titular y saldo (privado). Implementa métodos para depositar, retirar y consultar saldo.\n",
    "\n",
    "Objetivos:\n",
    "- Aplicar encapsulación y restringir acceso directo a saldo.\n",
    "- Implementar métodos para modificar datos de forma segura."
   ]
  },
  {
   "cell_type": "code",
   "execution_count": 12,
   "metadata": {},
   "outputs": [
    {
     "name": "stdout",
     "output_type": "stream",
     "text": [
      "Ha depositado 30, sus fondos actuales son: 330\n",
      "Su saldo total es: 30 \n"
     ]
    }
   ],
   "source": [
    "class CuentaBancaria():\n",
    "    def __init__(self,titular,saldo):\n",
    "        self.titular=titular\n",
    "        self._saldo=saldo\n",
    "    def depositar(self,cantidad):\n",
    "        if(cantidad<0):\n",
    "            print(\"Deposite una cantidad real\")\n",
    "        else:\n",
    "            self._saldo+=cantidad;\n",
    "        print(f\"Ha depositado {cantidad}, sus fondos actuales son: {self._saldo}\")\n",
    "    def retirar(self,cantidad):\n",
    "        if(cantidad>self._saldo):\n",
    "            print(\"No tiene fondos suficientes\")\n",
    "        else:\n",
    "            self._saldo-=cantidad\n",
    "    def consultarSaldo(self):\n",
    "        print(f\"Su saldo total es: {self._saldo} \" )\n",
    "\n",
    "c1=CuentaBancaria(\"Juan\",300)\n",
    "c1.depositar(30)\n",
    "\n",
    "c1.retirar(300)\n",
    "c1.consultarSaldo()\n"
   ]
  },
  {
   "cell_type": "markdown",
   "metadata": {},
   "source": [
    "# Ejercicio 3: Sistema de Biblioteca\n",
    "Crea un sistema de biblioteca con clases `Libro`, `Usuario`, y `Biblioteca`. Implementa herencia, encapsulación y manejo de listas para gestionar libros y préstamos.\n",
    "\n",
    "Objetivos:\n",
    "- Aplicar encapsulación para proteger la disponibilidad de libros.\n",
    "- Usar herencia para manejar diferentes tipos de usuarios.\n",
    "- Implementar métodos para gestionar préstamos y devoluciones."
   ]
  },
  {
   "cell_type": "code",
   "execution_count": null,
   "metadata": {},
   "outputs": [
    {
     "name": "stdout",
     "output_type": "stream",
     "text": [
      "        Titulo:\tCanción de Hielo y Fuego\n",
      "        Autor:\tG.R.Martin \n",
      "        Titulo:\tEl reino de la Fantasía\n",
      "        Autor:\tGerónimo Stilton \n",
      "        Titulo:\tMetamorfosis\n",
      "        Autor:\tPlubio Ovideo \n"
     ]
    }
   ],
   "source": [
    "inventario=[]\n",
    "usuarios=[]\n",
    "librosPrestados=[]\n",
    "\n",
    "class Biblioteca():\n",
    "    \n",
    "    def agregaLibro(self, object):\n",
    "        inventario.append(self)\n",
    "    def eliminarLibro(self,object):\n",
    "        inventario.remove(self)\n",
    "    def registrarUser(self, object):\n",
    "        usuarios.append(self)\n",
    "    def prestar(self):\n",
    "        if self.disponible:\n",
    "            self.disponible = False\n",
    "            print(\"El libro se ha prestado\")\n",
    "            librosPrestados.append(self)\n",
    "        else:\n",
    "            print(\"El libro no se encuentra disponible\")\n",
    "    def devolverLibro(self,object):\n",
    "        librosPrestados.remove(self)\n",
    "        inventario.append(self)\n",
    "\n",
    "    def mostrarInv():\n",
    "        for p in inventario:\n",
    "            print(p,\"\")\n",
    "    def mostrarLibrosPrestados(self):\n",
    "        for l in librosPrestados:\n",
    "            print(l,\"\")\n",
    "\n",
    "class Libro():\n",
    "    def __init__(self,titulo,autor):\n",
    "        self.titulo=titulo\n",
    "        self.autor=autor\n",
    "    def __str__(self):\n",
    "        return \"\"\"\\\n",
    "        Titulo:\\t{}\n",
    "        Autor:\\t{}\"\"\".format(self.titulo,self.autor)\n",
    "    def agregaLibro(self):\n",
    "        inventario.append(self)\n",
    "    def mostrarInv(self):\n",
    "        print\n",
    "        for p in inventario:\n",
    "            print(p,\"\")\n",
    "class User():\n",
    "    def __init__(self, nombre, dni):\n",
    "        self.nombre=nombre\n",
    "        self.dni=dni\n",
    "    \n",
    "\n",
    "p1=User(\"Pepe\", 213480)\n",
    "p2=User(\"Luis\",246151)\n",
    "l1=Libro(\"Canción de Hielo y Fuego\", \"G.R.Martin\")\n",
    "l2=Libro(\"El reino de la Fantasía\", \"Gerónimo Stilton\")\n",
    "l3=Libro(\"Metamorfosis\",\"Plubio Ovideo\")\n",
    "\n",
    "l1.agregaLibro()\n",
    "l2.agregaLibro()\n",
    "l3.agregaLibro()\n",
    "\n",
    "Biblioteca.mostrarInv()"
   ]
  },
  {
   "cell_type": "markdown",
   "metadata": {},
   "source": [
    "# Ejercicio 4: Gestión de Tienda Online\n",
    "Crea un sistema de tienda online con clases `Producto`, `Carrito` y `Cliente`. Implementa métodos para añadir productos al carrito, calcular el total y realizar la compra.\n",
    "\n",
    "Objetivos:\n",
    "- Aplicar herencia en distintos tipos de productos.\n",
    "- Manejar listas de productos y cálculos de totales.\n",
    "- Usar encapsulación para restringir acceso a precios."
   ]
  },
  {
   "cell_type": "code",
   "execution_count": 65,
   "metadata": {},
   "outputs": [
    {
     "name": "stdout",
     "output_type": "stream",
     "text": [
      "        REFERENCIA\t2010\n",
      "        NOMBRE\t\tleche\n",
      "        PVP\t\t2 \n",
      "        REFERENCIA\t2011\n",
      "        NOMBRE\t\tBatido\n",
      "        PVP\t\t4 \n",
      "EL total son 6, ha pagado 20, el cambio son 14\n"
     ]
    }
   ],
   "source": [
    "class Producto:\n",
    "    def __init__(self,referencia,nombre,pvp):\n",
    "        self.referencia = referencia\n",
    "        self.nombre = nombre\n",
    "        self.pvp = pvp\n",
    "        \n",
    "    def __str__(self):\n",
    "        return \"\"\"\\\n",
    "        REFERENCIA\\t{}\n",
    "        NOMBRE\\t\\t{}\n",
    "        PVP\\t{}\"\"\".format(self.referencia,self.nombre,self.pvp)\n",
    "\n",
    "class Alimento(Producto):\n",
    "    \n",
    "    def __str__(self):\n",
    "        return \"\"\"\\\n",
    "        REFERENCIA\\t{}\n",
    "        NOMBRE\\t\\t{}\n",
    "        PVP\\t\\t{}\"\"\".format(self.referencia,self.nombre,self.pvp)\n",
    "\n",
    "class Libro(Producto):\n",
    "    \n",
    "    def __str__(self):\n",
    "        return \"\"\"\\\n",
    "        REFERENCIA\\t{}\n",
    "        NOMBRE\\t\\t{}\n",
    "        PVP\\t\\t{}\"\"\".format(self.referencia,self.nombre,self.pvp)\n",
    "\n",
    "carrito=[]\n",
    "carrito.clear()\n",
    "class Carrito():\n",
    "    def __init__(self,total):\n",
    "        self.total=0\n",
    "    def addProducto(self,object):\n",
    "        carrito.append(object)\n",
    "    def calculaTotal(self):\n",
    "        self.total=0\n",
    "        for i in carrito:\n",
    "            self.total+=i.pvp\n",
    "        \n",
    "        return self.total   \n",
    "    \n",
    "class Cliente(Carrito):\n",
    "    def __init__(self,pago):\n",
    "        self.pago=pago\n",
    "    def realizarCompra(self):\n",
    "        if(self.pago<Carrito.calculaTotal(self)):\n",
    "            print(\"Dinero insuficiente\")\n",
    "        else:\n",
    "            compra=self.pago- Carrito.calculaTotal(self)\n",
    "            for i in carrito:\n",
    "                print(i,\"\")\n",
    "            print(f\"EL total son {Carrito.calculaTotal(self)}, ha pagado {self.pago}, el cambio son {compra}\")\n",
    "        \n",
    "\n",
    "\n",
    "al1= Alimento(2010,\"leche\",2)\n",
    "al2= Alimento(2011,\"Batido\",4)\n",
    "carrito1= Carrito(0)\n",
    "carrito1.addProducto(al1)\n",
    "carrito1.addProducto(al2)\n",
    "carrito1.calculaTotal()\n",
    "cliente1= Cliente(20)\n",
    "cliente1.realizarCompra()\n"
   ]
  },
  {
   "cell_type": "markdown",
   "metadata": {},
   "source": [
    "# Ejercicio 5 - Sistema de Gestión de Pacientes\n",
    "Crea una clase `Paciente` con atributos como `nombre`, `edad` y `enfermedad`. Luego, implementa una clase `Hospital` que gestione la lista de pacientes.\n",
    "\n",
    "Objetivos:\n",
    "- Aplicar encapsulación para restringir acceso a datos médicos.\n",
    "- Manejar listas de pacientes con métodos de búsqueda.\n",
    "- Implementar métodos para registrar y listar pacientes."
   ]
  },
  {
   "cell_type": "code",
   "execution_count": 66,
   "metadata": {},
   "outputs": [],
   "source": [
    "# Tu código aquí"
   ]
  },
  {
   "cell_type": "code",
   "execution_count": null,
   "metadata": {},
   "outputs": [],
   "source": []
  }
 ],
 "metadata": {
  "kernelspec": {
   "display_name": "Python 3",
   "language": "python",
   "name": "python3"
  },
  "language_info": {
   "codemirror_mode": {
    "name": "ipython",
    "version": 3
   },
   "file_extension": ".py",
   "mimetype": "text/x-python",
   "name": "python",
   "nbconvert_exporter": "python",
   "pygments_lexer": "ipython3",
   "version": "3.13.1"
  }
 },
 "nbformat": 4,
 "nbformat_minor": 2
}
