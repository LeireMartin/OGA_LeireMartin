{
 "cells": [
  {
   "cell_type": "markdown",
   "metadata": {},
   "source": [
    "# Ejercicio 1: Administración de Empleados\n",
    "\n",
    "Crea una clase Empleado con nombre, salario y cargo. Luego, encapsula el salario con métodos `get_salario()` y `set_salario()` para asegurarte de que solo valores positivos sean aceptados.\n",
    "\n",
    "Objetivos: \n",
    "- Aplicar encapsulación.\n",
    "- Proteger datos con métodos `getters` y `setters`."
   ]
  },
  {
   "cell_type": "code",
   "execution_count": null,
   "metadata": {},
   "outputs": [
    {
     "name": "stdout",
     "output_type": "stream",
     "text": [
      "2000\n"
     ]
    }
   ],
   "source": [
    "class Empleado():\n",
    "    def __init__(self,nombre,salario,cargo):\n",
    "        self.nombre=nombre\n",
    "        self._salario=0\n",
    "        self.cargo=cargo\n",
    "    def salarioGet(self):\n",
    "        return self._salario\n",
    "\n",
    "    def salarioSet(self, a):\n",
    "        if(a<0):\n",
    "            raise ValueError(\"Introduzca un valor mator a 0\")\n",
    "        self._salario=a\n",
    "    \n",
    "antonio= Empleado(\"Luis\",0,\"Portero\")\n",
    "antonio.salarioSet(2000)\n",
    "print(antonio.salarioGet())"
   ]
  },
  {
   "cell_type": "markdown",
   "metadata": {},
   "source": [
    "# Ejercicio 2: Gestión de Cuenta Bancaria\n",
    "Crea una clase `CuentaBancaria` con los atributos titular y saldo (privado). Implementa métodos para depositar, retirar y consultar saldo.\n",
    "\n",
    "Objetivos:\n",
    "- Aplicar encapsulación y restringir acceso directo a saldo.\n",
    "- Implementar métodos para modificar datos de forma segura."
   ]
  },
  {
   "cell_type": "code",
   "execution_count": null,
   "metadata": {},
   "outputs": [],
   "source": [
    "class"
   ]
  },
  {
   "cell_type": "markdown",
   "metadata": {},
   "source": [
    "# Ejercicio 3: Sistema de Biblioteca\n",
    "Crea un sistema de biblioteca con clases `Libro`, `Usuario`, y `Biblioteca`. Implementa herencia, encapsulación y manejo de listas para gestionar libros y préstamos.\n",
    "\n",
    "Objetivos:\n",
    "- Aplicar encapsulación para proteger la disponibilidad de libros.\n",
    "- Usar herencia para manejar diferentes tipos de usuarios.\n",
    "- Implementar métodos para gestionar préstamos y devoluciones."
   ]
  },
  {
   "cell_type": "code",
   "execution_count": 23,
   "metadata": {},
   "outputs": [],
   "source": [
    "# Tu código aquí"
   ]
  },
  {
   "cell_type": "markdown",
   "metadata": {},
   "source": [
    "# Ejercicio 4: Gestión de Tienda Online\n",
    "Crea un sistema de tienda online con clases `Producto`, `Carrito` y `Cliente`. Implementa métodos para añadir productos al carrito, calcular el total y realizar la compra.\n",
    "\n",
    "Objetivos:\n",
    "- Aplicar herencia en distintos tipos de productos.\n",
    "- Manejar listas de productos y cálculos de totales.\n",
    "- Usar encapsulación para restringir acceso a precios."
   ]
  },
  {
   "cell_type": "code",
   "execution_count": 24,
   "metadata": {},
   "outputs": [],
   "source": [
    "# Tu código aquí"
   ]
  },
  {
   "cell_type": "markdown",
   "metadata": {},
   "source": [
    "# Ejercicio 5 - Sistema de Gestión de Pacientes\n",
    "Crea una clase `Paciente` con atributos como `nombre`, `edad` y `enfermedad`. Luego, implementa una clase `Hospital` que gestione la lista de pacientes.\n",
    "\n",
    "Objetivos:\n",
    "- Aplicar encapsulación para restringir acceso a datos médicos.\n",
    "- Manejar listas de pacientes con métodos de búsqueda.\n",
    "- Implementar métodos para registrar y listar pacientes."
   ]
  },
  {
   "cell_type": "code",
   "execution_count": 25,
   "metadata": {},
   "outputs": [],
   "source": [
    "# Tu código aquí"
   ]
  },
  {
   "cell_type": "code",
   "execution_count": null,
   "metadata": {},
   "outputs": [],
   "source": []
  }
 ],
 "metadata": {
  "kernelspec": {
   "display_name": "Python 3",
   "language": "python",
   "name": "python3"
  },
  "language_info": {
   "codemirror_mode": {
    "name": "ipython",
    "version": 3
   },
   "file_extension": ".py",
   "mimetype": "text/x-python",
   "name": "python",
   "nbconvert_exporter": "python",
   "pygments_lexer": "ipython3",
   "version": "3.13.1"
  }
 },
 "nbformat": 4,
 "nbformat_minor": 2
}
