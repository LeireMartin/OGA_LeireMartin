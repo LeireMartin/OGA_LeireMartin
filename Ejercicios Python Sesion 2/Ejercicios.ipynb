{
 "cells": [
  {
   "cell_type": "markdown",
   "metadata": {},
   "source": [
    "# Ejercicios de Programación Orientada a Objetos\n",
    "\n",
    "## Ejercicio 1: Creación de una Clase Básica\n",
    "Crea una clase llamada `Libro` que tenga los siguientes atributos:\n",
    "- título\n",
    "- autor\n",
    "- año_publicacion\n",
    "- disponible (booleano)\n",
    "\n",
    "Implementa los métodos:\n",
    "- `prestar()`: cambia disponible a False\n",
    "- `devolver()`: cambia disponible a True\n",
    "- `info()`: muestra toda la información del libro"
   ]
  },
  {
   "cell_type": "code",
   "execution_count": null,
   "metadata": {},
   "outputs": [],
   "source": [
    "class Libro():\n",
    "    def __init__(self, titulo, autor, anio_publicacion, disponible):\n",
    "        self.titulo = titulo\n",
    "        self.autor = autor\n",
    "        self.anio_publicacion = anio_publicacion\n",
    "        self.disponible = disponible\n",
    "def prestar(self):\n",
    "        if self.disponible:\n",
    "            self.disponible = False\n",
    "            print(\"El libro se ha prestado\")\n",
    "        else:\n",
    "            print(\"El libro no se encuentra disponible\")\n",
    "    \n",
    "def devolver(self):\n",
    "        if self.disponible:\n",
    "            print(\"El libro ya se encuentra disponible\")\n",
    "        else:\n",
    "            self.disponible = True\n",
    "            print(\"El libro se ha devuelto\")\n",
    "def informacion(self):\n",
    "        print(\"Titulo: \", self.titulo)\n",
    "        print(\"Autor: \", self.autor)\n",
    "        print(\"Año de publicación: \", self.anio_publicacion)\n",
    "        if self.disponible:\n",
    "            print(\"El libro se encuentra disponible\")\n",
    "        else:\n",
    "            print(\"El libro no se encuentra disponible\")\n",
    "\n",
    "libro2 = Libro(\"Libro 1\", \"J.R.R. Tolkien\", 1960, False)\n",
    "libro2.informacion()\n",
    "libro2.prestar()"
   ]
  },
  {
   "cell_type": "markdown",
   "metadata": {},
   "source": [
    "## Ejercicio 2: Herencia\n",
    "Crea una clase `Vehiculo` con atributos básicos como `marca`, `modelo` y `año`.\n",
    "Luego crea dos clases que hereden de `Vehiculo`:\n",
    "- `Coche` (con atributo adicional `num_puertas`)\n",
    "- `Moto` (con atributo adicional `cilindrada`)\n",
    "\n",
    "Cada clase debe tener un método `mostrar_info()` que muestre sus atributos."
   ]
  },
  {
   "cell_type": "code",
   "execution_count": null,
   "metadata": {},
   "outputs": [],
   "source": [
    "class Vehiculo:\n",
    "    def __init__(self,marca,modelo,anno):\n",
    "        self.marca=marca\n",
    "        self.modelo=modelo\n",
    "        self.anno = anno\n",
    "    def mostrar_info(self):\n",
    "        return \"Marca: {self.marca} / Modelo: {self.modelo} / Año: {self.anno}\"\n",
    "    \n",
    "class Coche(Vehiculo):\n",
    "    def __init__(self, marca, modelo, anno,numPuertas):\n",
    "        super().__init__(marca, modelo, anno)\n",
    "        self.numPuertas = numPuertas\n",
    "    def mostrar_info(self):\n",
    "        return f\"Marca: {self.marca} / Modelo: {self.modelo} / Año: {self.anno}\"\n",
    "\n"
   ]
  },
  {
   "cell_type": "markdown",
   "metadata": {},
   "source": [
    "## Ejercicio 3: Encapsulamiento\n",
    "Crea una clase `CuentaBancaria` con:\n",
    "- Atributos privados: `__saldo` y `__num_cuenta`\n",
    "- Métodos:\n",
    "  - `depositar(cantidad)`\n",
    "  - `retirar(cantidad)`\n",
    "  - `consultar_saldo()`\n",
    "\n",
    "Asegúrate de que no se pueda retirar más dinero del disponible."
   ]
  },
  {
   "cell_type": "code",
   "execution_count": 4,
   "metadata": {},
   "outputs": [
    {
     "name": "stdout",
     "output_type": "stream",
     "text": [
      "Se han depositado 20 euros\n",
      "En total tiene 220 euros\n",
      "No tiene suficientes fondos.\n"
     ]
    }
   ],
   "source": [
    "class CuentaBancaria:\n",
    "    def __init__(self,__saldo,__num_cuenta):\n",
    "       self.__saldo= __saldo\n",
    "       self.__num_cuenta=__num_cuenta\n",
    "    def depositar(self,cantidad):\n",
    "        print(f\"Se han depositado {cantidad} euros\")\n",
    "        self.__saldo+=cantidad\n",
    "        print(f\"En total tiene {self.__saldo} euros\")\n",
    "\n",
    "    def retirar(self, cantidad):\n",
    "        if cantidad>self.__saldo:\n",
    "            print(f\"No tiene suficientes fondos.\")\n",
    "        else:\n",
    "            print(f\"Se han retirado {cantidad} euros\")\n",
    "            self.__saldo-=cantidad\n",
    "            print(f\"En total tiene {self.__saldo} euros\")\n",
    "    def consultarSaldo(self):\n",
    "         print(f\"En total tiene {self.__saldo} euros\")\n",
    "\n",
    "\n",
    "cb1= CuentaBancaria(200,6)\n",
    "cb1.depositar(20)\n",
    "cb1.retirar(300)\n",
    "          \n"
   ]
  },
  {
   "cell_type": "markdown",
   "metadata": {},
   "source": [
    "## Ejercicio 4: Polimorfismo\n",
    "Crea una clase `FiguraGeometrica` con un método `calcular_area()`.\n",
    "Luego crea las clases:\n",
    "- `Rectangulo`\n",
    "- `Circulo`\n",
    "- `Triangulo`\n",
    "\n",
    "Cada una debe implementar su propio método `calcular_area()`."
   ]
  },
  {
   "cell_type": "code",
   "execution_count": 5,
   "metadata": {},
   "outputs": [
    {
     "name": "stdout",
     "output_type": "stream",
     "text": [
      "Área del rectángulo: 12\n",
      "Área del cículo: 78.53981633974483\n",
      "Área del triángulo: 12.0\n"
     ]
    }
   ],
   "source": [
    "import math\n",
    "\n",
    "\n",
    "class FiguraGeometrica:\n",
    "    def calcular_area(self):\n",
    "        raise NotImplementedError(\"Este metodo debe ser implementado en las subclases\")\n",
    "       \n",
    "class Rectangulo(FiguraGeometrica):\n",
    "    def __init__(self,base, altura):\n",
    "        self.base=base\n",
    "        self.altura=altura\n",
    "\n",
    "    def calcular_area(self):\n",
    "        return self.base*self.altura\n",
    "class Circulo(FiguraGeometrica):\n",
    "    def __init__(self, radio):\n",
    "        self.radio=radio\n",
    "    def calcular_area(self):\n",
    "        return math.pi*self.radio**2\n",
    "class Triang(FiguraGeometrica):\n",
    "    def __init__(self,base,altura):\n",
    "        self.base=base\n",
    "        self.altura=altura\n",
    "    def calcular_area(self):\n",
    "        return (self.base*self.altura)/2\n",
    "\n",
    "r1= Rectangulo(3,4)\n",
    "c1= Circulo(5)\n",
    "t1 = Triang(3,8)\n",
    "\n",
    "print(f\"Área del rectángulo: {r1.calcular_area()}\")\n",
    "print(f\"Área del cículo: {c1.calcular_area()}\")\n",
    "print(f\"Área del triángulo: {t1.calcular_area()}\")\n",
    "\n",
    "\n",
    "    \n",
    "        \n",
    "        \n",
    "    "
   ]
  },
  {
   "cell_type": "markdown",
   "metadata": {},
   "source": [
    "## Ejercicio 5: Proyecto Final\n",
    "Crea un sistema simple de gestión de una biblioteca usando POO.\n",
    "Debe incluir:\n",
    "- Clase `Biblioteca`\n",
    "- Clase `Libro`\n",
    "- Clase `Usuario`\n",
    "\n",
    "Implementa métodos para:\n",
    "- Agregar/eliminar libros\n",
    "- Registrar usuarios\n",
    "- Prestar/devolver libros\n",
    "- Mostrar inventario\n",
    "- Mostrar libros prestados"
   ]
  },
  {
   "cell_type": "code",
   "execution_count": null,
   "metadata": {},
   "outputs": [
    {
     "name": "stdout",
     "output_type": "stream",
     "text": [
      "        Titulo:\tTitulo\n",
      "        Autor:\tPepe \n",
      "        Titulo:\tTitulo2\n",
      "        Autor:\tAutor2 \n",
      "        Titulo:\tTitulo3\n",
      "        Autor:\tAutor 2 \n"
     ]
    }
   ],
   "source": [
    "inventario=[]\n",
    "usuarios=[]\n",
    "librosPrestados=[]\n",
    "\n",
    "class Biblioteca():\n",
    "    \n",
    "    def agregaLibro(self, object):\n",
    "        inventario.append(self)\n",
    "    def eliminarLibro(self,object):\n",
    "        inventario.remove(self)\n",
    "    def registrarUser(self, object):\n",
    "        usuarios.append(self)\n",
    "    def prestar(self):\n",
    "        if self.disponible:\n",
    "            self.disponible = False\n",
    "            print(\"El libro se ha prestado\")\n",
    "            librosPrestados.append(self)\n",
    "        else:\n",
    "            print(\"El libro no se encuentra disponible\")\n",
    "    def devolverLibro(self,object):\n",
    "        librosPrestados.remove(self)\n",
    "        inventario.append(self)\n",
    "\n",
    "    def mostrarInv():\n",
    "        for p in inventario:\n",
    "            print(p,\"\")\n",
    "    def mostrarLibrosPrestados(self):\n",
    "        for l in librosPrestados:\n",
    "            print(l,\"\")\n",
    "\n",
    "class Libro():\n",
    "    def __init__(self,titulo,autor):\n",
    "        self.titulo=titulo\n",
    "        self.autor=autor\n",
    "    def __str__(self):\n",
    "        return \"\"\"\\\n",
    "        Titulo:\\t{}\n",
    "        Autor:\\t{}\"\"\".format(self.titulo,self.autor)\n",
    "    def agregaLibro(self):\n",
    "        inventario.append(self)\n",
    "    def mostrarInv(self):\n",
    "        for p in inventario:\n",
    "            print(p,\"\")\n",
    "class User():\n",
    "    def __init__(self, nombre, dni):\n",
    "        self.nombre=nombre\n",
    "        self.dni=dni\n",
    "    \n",
    "\n",
    "p1=User(\"Pepe\", 213480)\n",
    "p2=User(\"Luis\",246151)\n",
    "l1=Libro(\"Titulo\", \"Pepe\")\n",
    "l2=Libro(\"Titulo2\", \"Autor2\")\n",
    "l3=Libro(\"Titulo3\",\"Autor 2\")\n",
    "\n",
    "l1.agregaLibro()\n",
    "l2.agregaLibro()\n",
    "l3.agregaLibro()\n",
    "Biblioteca.mostrarInv()\n",
    "\n"
   ]
  }
 ],
 "metadata": {
  "kernelspec": {
   "display_name": "Python 3",
   "language": "python",
   "name": "python3"
  },
  "language_info": {
   "codemirror_mode": {
    "name": "ipython",
    "version": 3
   },
   "file_extension": ".py",
   "mimetype": "text/x-python",
   "name": "python",
   "nbconvert_exporter": "python",
   "pygments_lexer": "ipython3",
   "version": "3.13.1"
  }
 },
 "nbformat": 4,
 "nbformat_minor": 2
}
